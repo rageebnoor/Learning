{
 "cells": [
  {
   "cell_type": "code",
   "execution_count": 16,
   "metadata": {},
   "outputs": [],
   "source": [
    "# Before moving, let's load the dataset\n",
    "import pandas as pd\n",
    "\n",
    "df = pd.read_csv(\"population_by_country_dataset.csv\")"
   ]
  },
  {
   "cell_type": "code",
   "execution_count": 29,
   "metadata": {},
   "outputs": [
    {
     "ename": "TypeError",
     "evalue": "'numpy.ndarray' object is not callable",
     "output_type": "error",
     "traceback": [
      "\u001b[1;31m---------------------------------------------------------------------------\u001b[0m",
      "\u001b[1;31mTypeError\u001b[0m                                 Traceback (most recent call last)",
      "\u001b[1;32m<ipython-input-29-619b3a27d5a6>\u001b[0m in \u001b[0;36m<module>\u001b[1;34m\u001b[0m\n\u001b[1;32m----> 1\u001b[1;33m \u001b[0mlist\u001b[0m\u001b[1;33m(\u001b[0m\u001b[1;33m[\u001b[0m\u001b[1;36m1\u001b[0m\u001b[1;33m,\u001b[0m\u001b[1;36m2\u001b[0m\u001b[1;33m,\u001b[0m\u001b[1;36m3\u001b[0m\u001b[1;33m]\u001b[0m\u001b[1;33m)\u001b[0m\u001b[1;33m\u001b[0m\u001b[1;33m\u001b[0m\u001b[0m\n\u001b[0m",
      "\u001b[1;31mTypeError\u001b[0m: 'numpy.ndarray' object is not callable"
     ]
    }
   ],
   "source": [
    "list([1,2,3])"
   ]
  },
  {
   "cell_type": "code",
   "execution_count": 27,
   "metadata": {},
   "outputs": [
    {
     "data": {
      "text/plain": [
       "[array([1440297825, 1382345085,  331341050,  274021604,  221612785,\n",
       "         212821986,  206984347,  164972348,  145945524,  129166028,\n",
       "         126407422,  115434444,  109830324,  102659126,   97490013,\n",
       "          90003954,   84495243,   84176929,   83830972,   69830779,\n",
       "          67948282,   65298930,   60446035,   60012400,   59436725,\n",
       "          54473253,   53968739,   51276977,   50976248,   46757980,\n",
       "          45974931,   45267449,   43984569,   44019263,   43686577,\n",
       "          40372771,   39074280,   37839255,   37799407,   36985624,\n",
       "          34905942,   33551824,   33050211,   33032075,   32436963,\n",
       "          31398811,   31181428,   29935468,   29225196,   28421581,\n",
       "          27808395,   26655083,   26486282,   25798588,   25550683,\n",
       "          24346468,   23824369,   21428970,   20997293,   20346106,\n",
       "          19214608,   19211425,   19144605,   18815231,   18468257,\n",
       "          17971382,   17688599,   17571053,   17141544,   16816539,\n",
       "          16758448,   16502877,   15965848,   14899771,   13191279,\n",
       "          13005303,   12175480,   11948454,   11839918,   11700207,\n",
       "          11598451,   11426356,   11325391,   11216250,   10866667,\n",
       "          10712481,   10413936,   10220604,   10191409,   10154978,\n",
       "          10110233,    9931333,    9910892,    9655983,    9573310,\n",
       "           9448772,    9015361,    8975531,    8731081,    8678517,\n",
       "           8665615,    8310934,    8004158,    7507523,    7293542,\n",
       "           7147553,    6939018,    6887247,    6819976,    6638075,\n",
       "           6542426,    6491923,    6046292,    5858322,    5795780,\n",
       "           5542237,    5540555,    5460109,    5428594,    5128058,\n",
       "           5121112,    5102158,    5077411,    4947267,    4843954,\n",
       "           4829021,    4669775,    4326296,    4281320,    4100719,\n",
       "           4032294,    3987805,    3554797,    3475842,    3277152,\n",
       "           3287242,    2964219,    2963429,    2889284,    2877239,\n",
       "           2846860,    2715340,    2548663,    2427782,    2359585,\n",
       "           2234448,    2145194,    2083359,    2078989,    1975718,\n",
       "           1882408,    1711057,    1410419,    1400283,    1326693,\n",
       "           1322667,    1272140,    1208886,    1162233,     990447,\n",
       "            897573,     896422,     872695,     787215,     773069,\n",
       "            689671,     650846,     628080,     627704,     599769,\n",
       "            587541,     557026,     542151,     441750,     438202,\n",
       "            400136,     398845,     393893,     375213,     341628,\n",
       "            308337,     299958,     287437,     285972,     281191,\n",
       "            273905,     219844,     198643,     183774,     174140,\n",
       "            169031,     164211,     119760,     115231,     112614,\n",
       "            111002,     106845,     105901,     104398,      98453,\n",
       "             98069,      85112,      77287,      72017,      65854,\n",
       "             62237,      59259,      57619,      56787,      55169,\n",
       "             53264,      48896,      42960,      39290,      38806,\n",
       "             38778,      38147,      33944,      33689,      30266,\n",
       "             26265,      18109,      17567,      15026,      11817,\n",
       "             11203,      10836,       9882,       6080,       5789,\n",
       "              4993,       3497,       1628,       1360,        801],\n",
       "       dtype=int64)]"
      ]
     },
     "execution_count": 27,
     "metadata": {},
     "output_type": "execute_result"
    }
   ],
   "source": [
    "df['Population (2020)'].values"
   ]
  },
  {
   "cell_type": "markdown",
   "metadata": {},
   "source": [
    "In this notebook, we will self-study(I will be teaching myself :3), about the descriptive statistics. Firstly, we will talk about theory, then with Python code we make our hands dirty by using theory on data. For data, we won't use any theorical data instead we will use real-world data so that we can understand what is happening, ask question as well as will try to understand the data while practicing                "
   ]
  },
  {
   "cell_type": "markdown",
   "metadata": {},
   "source": [
    "[Dataset](https://www.kaggle.com/tanuprabhu/population-by-country-2020) | We will use population by country dataset for this learning process. We have choosed population dataset as all the data is in numeric format, we will require no pre-processing, overall a very clean dataset for learning stats"
   ]
  },
  {
   "cell_type": "markdown",
   "metadata": {},
   "source": [
    "# Descriptive Statistics\n"
   ]
  },
  {
   "cell_type": "markdown",
   "metadata": {},
   "source": [
    "Before start learning topics, so what is descriptive statistics?\n",
    "So we have dataset. Using descriptive stats, we can get idea of summary, describe the basic feature of the dataset. It's like to first fundamental to learn about any dataset. Note: Dataset should be numeric.\n",
    "\n",
    "Example: let's say you have data for your salary for every month in a year. To have a good idea about how much you earned in a year, you can all month's salary and divide by 12(12 month=1 year). Then you will get a good understanding, how average you have income in a year. See, you got understanding of the data but not any prediction, conclusion. "
   ]
  },
  {
   "cell_type": "markdown",
   "metadata": {},
   "source": [
    "Types of Descriptive Stats:\n",
    "- Destribution\n",
    "- Central Tendency\n",
    "- Variability or Dispersion"
   ]
  },
  {
   "cell_type": "markdown",
   "metadata": {},
   "source": [
    "# Central Tendency"
   ]
  },
  {
   "cell_type": "markdown",
   "metadata": {},
   "source": [
    "## Mean"
   ]
  },
  {
   "cell_type": "markdown",
   "metadata": {},
   "source": [
    "When we have a raw dataset, the best and great way to idea about the dataset is Mean or to find average. By measuring it, we can see the centre of the dataset.\n",
    "How to find mean -> `SUM(Numbers)/COUNT(Numbers)`"
   ]
  },
  {
   "cell_type": "code",
   "execution_count": null,
   "metadata": {},
   "outputs": [],
   "source": []
  }
 ],
 "metadata": {
  "kernelspec": {
   "display_name": "Python 3",
   "language": "python",
   "name": "python3"
  },
  "language_info": {
   "codemirror_mode": {
    "name": "ipython",
    "version": 3
   },
   "file_extension": ".py",
   "mimetype": "text/x-python",
   "name": "python",
   "nbconvert_exporter": "python",
   "pygments_lexer": "ipython3",
   "version": "3.7.4"
  }
 },
 "nbformat": 4,
 "nbformat_minor": 2
}
